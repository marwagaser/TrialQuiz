{
  "nbformat": 4,
  "nbformat_minor": 0,
  "metadata": {
    "colab": {
      "name": "Trial Quiz.ipynb",
      "provenance": [],
      "collapsed_sections": []
    },
    "kernelspec": {
      "name": "python3",
      "display_name": "Python 3"
    }
  },
  "cells": [
    {
      "cell_type": "markdown",
      "metadata": {
        "id": "BGKsK0gdzOYF"
      },
      "source": [
        "**Question 1**\n",
        "\n",
        "Store the following CSV file in a dataframe: https://raw.githubusercontent.com/raneemsultan/DataEngineering-CSEN1095/main/Lab2/CSVs/fifa.csv "
      ]
    },
    {
      "cell_type": "code",
      "metadata": {
        "id": "d4rYJ8HIzLGs"
      },
      "source": [
        "# Your solution here"
      ],
      "execution_count": null,
      "outputs": []
    }
  ]
}